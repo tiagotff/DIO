{
  "nbformat": 4,
  "nbformat_minor": 0,
  "metadata": {
    "colab": {
      "provenance": [],
      "collapsed_sections": [
        "PNId0SwIp8SU",
        "7XDaw4GpAuTj",
        "uE5jm0UfBAmA",
        "0sMVRNHWBR0a",
        "7_m1AlFSBgRQ",
        "jlffRcQHDgu5",
        "X1NkrW4mDoJX"
      ]
    },
    "kernelspec": {
      "name": "python3",
      "display_name": "Python 3"
    },
    "language_info": {
      "name": "python"
    }
  },
  "cells": [
    {
      "cell_type": "markdown",
      "source": [
        "# **Desafios Intermediário Py - Unimed-BH**"
      ],
      "metadata": {
        "id": "mXqgCV9d-awe"
      }
    },
    {
      "cell_type": "markdown",
      "source": [
        "## **2/3 - Papagaio poliglota**\n",
        ">\n",
        "> Humberto tem um papagaio muito esperto. Quando está com as duas pernas no chão, o papagaio fala em português. Quando levanta a perna esquerda, fala em inglês. Por fim, quando levanta a direita fala em francês. Nico, amigo de Humberto, ficou fascinado com o animal. Em sua emoção perguntou: “E quando ele levanta as duas?”. Antes que Humberto pudesse responder, o papagaio gritou: “Aí eu caio, idiota!”.\n",
        "\n",
        ">\n",
        "\n",
        "## **Entrada**\n",
        "\n",
        "> A entrada consiste de diversos casos de teste. Cada caso de teste consiste uma string informando qual a situação de levantamento de pernas do papagaio.\n",
        "\n",
        ">\n",
        "\n",
        "## **Saída**\n",
        "> Para cada condição de levantamento de pernas do papagaio, imprima a linguagem que ele utilizará. Caso ele levante ambas as pernas, imprima “caiu”. Quebre uma linha a cada caso de teste.\n",
        "\n",
        "> \n",
        "\n",
        "####  **Exemplo de Entrada\t |   Exemplo de Saída**\n",
        "\n",
        ">\n",
        "\n",
        "        esquerda           |         ingles\n",
        "        direita            |         frances\n",
        "        nenhuma            |         portugues\n",
        "        ambas              |         caiu"
      ],
      "metadata": {
        "id": "1Qmb91lHp_1S"
      }
    },
    {
      "cell_type": "markdown",
      "source": [
        "### **Resolução entregue no desafio**"
      ],
      "metadata": {
        "id": "jlffRcQHDgu5"
      }
    },
    {
      "cell_type": "code",
      "source": [
        "while True: \n",
        "    try:\n",
        "      letra = input()\n",
        "      if letra == \"esquerda\":\n",
        "        print(\"ingles\")\n",
        "      elif letra == \"direita\":\n",
        "        print(\"frances\")\n",
        "      elif letra == \"nenhuma\":\n",
        "        print(\"portugues\")\n",
        "      else:\n",
        "        if letra == \"ambas\":\n",
        "          print(\"caiu\")\n",
        "        else:\n",
        "          print(\"Condição inválida. Informe a condição correta, em minúsculo.\")\n",
        "    except EOFError: \n",
        "        break"
      ],
      "metadata": {
        "id": "BY0cKbD9FZi3"
      },
      "execution_count": null,
      "outputs": []
    },
    {
      "cell_type": "markdown",
      "source": [
        "### **Alternativas propostas**\n",
        "Com alguns pequenos ajustes, apresento a seguir algumas alternativas."
      ],
      "metadata": {
        "id": "_VLezaJLDkjI"
      }
    },
    {
      "cell_type": "markdown",
      "source": [
        "#### **1 - Com método lower() adicionado no input**"
      ],
      "metadata": {
        "id": "X1NkrW4mDoJX"
      }
    },
    {
      "cell_type": "code",
      "source": [
        "while True: \n",
        "    try:\n",
        "      letra = input().lower()\n",
        "      if letra == \"esquerda\":\n",
        "        print(\"ingles\")\n",
        "      elif letra == \"direita\":\n",
        "        print(\"frances\")\n",
        "      elif letra == \"nenhuma\":\n",
        "        print(\"portugues\")\n",
        "      else:\n",
        "        if letra == \"ambas\":\n",
        "          print(\"caiu\")\n",
        "        else:\n",
        "          print(\"Condição inválida. Informe a condição correta, em minúsculo.\")\n",
        "    except EOFError: \n",
        "        break"
      ],
      "metadata": {
        "id": "_HO3DwWJDp87"
      },
      "execution_count": null,
      "outputs": []
    },
    {
      "cell_type": "markdown",
      "source": [
        "#### **2 - Com método lower() adicionado no input e interrupção do loop, quando do atendimento de condição válida**"
      ],
      "metadata": {
        "id": "HuF_6mGGN63f"
      }
    },
    {
      "cell_type": "code",
      "source": [
        "while True: \n",
        "    try:\n",
        "      letra = input().lower()\n",
        "      if letra == \"esquerda\":\n",
        "        print(\"ingles\")\n",
        "        break\n",
        "      elif letra == \"direita\":\n",
        "        print(\"frances\")\n",
        "        break\n",
        "      elif letra == \"nenhuma\":\n",
        "        print(\"portugues\")\n",
        "        break\n",
        "      else:\n",
        "        if letra == \"ambas\":\n",
        "          print(\"caiu\")\n",
        "          break\n",
        "        else:\n",
        "          print(\"Condição inválida. Informe a condição correta, em minúsculo.\")\n",
        "    except EOFError: \n",
        "        break"
      ],
      "metadata": {
        "colab": {
          "base_uri": "https://localhost:8080/"
        },
        "id": "5dugQ-buOHZO",
        "outputId": "5d8c664d-4999-4554-b0de-8ad1df8daf88"
      },
      "execution_count": null,
      "outputs": [
        {
          "output_type": "stream",
          "name": "stdout",
          "text": [
            "1\n",
            "Condição inválida. Informe a condição correta, em minúsculo.\n",
            "2\n",
            "Condição inválida. Informe a condição correta, em minúsculo.\n",
            ".\n",
            "Condição inválida. Informe a condição correta, em minúsculo.\n",
            "?\n",
            "Condição inválida. Informe a condição correta, em minúsculo.\n",
            "OI\n",
            "Condição inválida. Informe a condição correta, em minúsculo.\n",
            "DIREITA\n",
            "frances\n"
          ]
        }
      ]
    }
  ]
}