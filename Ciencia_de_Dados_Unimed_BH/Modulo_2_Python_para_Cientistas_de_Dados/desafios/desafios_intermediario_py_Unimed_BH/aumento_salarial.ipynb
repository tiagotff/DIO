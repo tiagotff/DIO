{
  "nbformat": 4,
  "nbformat_minor": 0,
  "metadata": {
    "colab": {
      "provenance": [],
      "collapsed_sections": [
        "PNId0SwIp8SU",
        "7XDaw4GpAuTj",
        "uE5jm0UfBAmA",
        "0sMVRNHWBR0a",
        "7_m1AlFSBgRQ",
        "jlffRcQHDgu5",
        "X1NkrW4mDoJX"
      ]
    },
    "kernelspec": {
      "name": "python3",
      "display_name": "Python 3"
    },
    "language_info": {
      "name": "python"
    }
  },
  "cells": [
    {
      "cell_type": "markdown",
      "source": [
        "# **Desafios Intermediário Py - Unimed-BH**"
      ],
      "metadata": {
        "id": "mXqgCV9d-awe"
      }
    },
    {
      "cell_type": "markdown",
      "source": [
        "## **3/3 - Aumento Salarial**\n",
        "\n",
        "A empresa que você trabalha resolveu conceder um aumento salarial a todos funcionários, de acordo com a tabela abaixo:\n",
        "\n",
        "\n",
        ">\n",
        "\n",
        "#### **Salário\t |  Percentual de Reajuste**\n",
        "\n",
        ">\n",
        "\n",
        "    0    -  600.00     |   17%\n",
        "    600.01 -  900.00   |   13%\n",
        "    900.01 - 1500.00   |   12%          \n",
        "    1500.01 - 2000.00  |   10%        \n",
        "    Acima de  2000.00  |    5%\n",
        "\n",
        "> \n",
        "\n",
        "\n",
        "Leia o salário do funcionário e calcule e mostre o novo salário, bem como o valor de reajuste ganho e o índice reajustado, em percentual.\n",
        "\n",
        "A entrada contém apenas um valor de ponto flutuante, que pode ser maior ou igual a zero, com duas casas decimais, conforme exemplos abaixo.\n",
        "\n",
        "### **Exemplo 1**\n",
        "\n",
        ">\n",
        "> ####  **Entrada\t |   Saída**\n",
        "\n",
        "          1000  |  Novo salario:  1120,00\n",
        "                |  Reajuste ganho: 120,00\n",
        "                |\n",
        "                |   Em percentual: 12%\n",
        "\n",
        "> \n",
        "\n",
        "### **Exemplo 2**\n",
        "\n",
        "\n",
        "> ####  **Entrada\t |   Saída**\n",
        "\n",
        "          2000  |  Novo salario:  2200,00\n",
        "                |  Reajuste ganho: 200,00\n",
        "                |\n",
        "                |   Em percentual: 10%\n",
        "\n"
      ],
      "metadata": {
        "id": "j8C52dRGO8bn"
      }
    },
    {
      "cell_type": "markdown",
      "source": [
        "### **Resolução entregue no desafio**"
      ],
      "metadata": {
        "id": "VrA8UcjeT2vd"
      }
    },
    {
      "cell_type": "code",
      "source": [
        "salario = int(input())\n",
        "if salario >= 0 and salario <= 600.00:\n",
        "  pr = 17\n",
        "  novoSalario = salario * 1.17\n",
        "  reajuste = novoSalario - salario\n",
        "elif salario >= 600.01 and salario <= 900.00:\n",
        "  pr = 13\n",
        "  novoSalario = salario * 1.13\n",
        "  reajuste = novoSalario - salario\n",
        "elif salario >= 900.01 and salario <= 1500.00:\n",
        "  pr = 12\n",
        "  novoSalario = salario * 1.12\n",
        "  reajuste = novoSalario - salario\n",
        "elif salario >= 1500.01 and salario <= 2000.00:\n",
        "  pr = 10\n",
        "  novoSalario = salario * 1.10\n",
        "  reajuste = novoSalario - salario\n",
        "else:\n",
        "  pr = 5\n",
        "  novoSalario = salario * 1.05\n",
        "  reajuste = novoSalario - salario\n",
        "\n",
        "tratamento1Ns = str(novoSalario)\n",
        "finalNs = tratamento1Ns.split(\".\")\n",
        "tratamento1Re = str(reajuste)\n",
        "finalRe = tratamento1Re.split(\".\")\n",
        "print(f\"Novo salario: {finalNs[0]},00 Reajuste ganho: {finalRe[0]},00 Em percentual: {pr} %\")"
      ],
      "metadata": {
        "colab": {
          "base_uri": "https://localhost:8080/"
        },
        "id": "0Y6Iy6QAuzBB",
        "outputId": "a0539490-6470-4a66-e0c5-49e6d7140c60"
      },
      "execution_count": null,
      "outputs": [
        {
          "output_type": "stream",
          "name": "stdout",
          "text": [
            "2500\n",
            "Novo salario: 2625,00 Reajuste ganho: 125,00 Em percentual: 5 %\n"
          ]
        }
      ]
    },
    {
      "cell_type": "markdown",
      "source": [
        "### **Alternativas propostas**\n",
        "Com alguns pequenos ajustes, apresento a seguir algumas alternativas."
      ],
      "metadata": {
        "id": "5dZQ0QRRT4CB"
      }
    },
    {
      "cell_type": "code",
      "source": [
        "#solução um pouco mais completa, no entanto, ainda retorna '00' nos centaos.\n",
        "salario = float(input())\n",
        "if (salario < 0):\n",
        "  print(\"O salario deve ser a partir de zero\")\n",
        "else:\n",
        "  if (salario >= 0 and salario <= 600.00):\n",
        "    pr = 17\n",
        "    novoSalario = salario * 1.17\n",
        "    reajuste = novoSalario - salario\n",
        "  elif (salario >= 600.01 and salario <= 900.00):\n",
        "    pr = 13\n",
        "    novoSalario = salario * 1.13\n",
        "    reajuste = novoSalario - salario\n",
        "  elif (salario >= 900.01 and salario <= 1500.00):\n",
        "    pr = 12\n",
        "    novoSalario = salario * 1.12\n",
        "    reajuste = novoSalario - salario\n",
        "  elif (salario >= 1500.01 and salario <= 2000.00):\n",
        "    pr = 10\n",
        "    novoSalario = salario * 1.10\n",
        "    reajuste = novoSalario - salario\n",
        "  elif (salario > 2000.00):\n",
        "    pr = 5\n",
        "    novoSalario = salario * 1.05\n",
        "    reajuste = novoSalario - salario\n",
        "\n",
        "  tratamento1Ns = str(novoSalario).split(\".\")\n",
        "  tratamento1Re = str(reajuste).split(\".\")\n",
        "\n",
        "  finalNs = tratamento1Ns[0] + \",\" + tratamento1Ns[1]\n",
        "  finalRe= tratamento1Re[0] + \",\" + tratamento1Re[1]\n",
        "\n",
        "  print(f\"Novo salario: {finalNs[0]},00 Reajuste ganho: {finalRe[0]},00 Em percentual: {pr} %\")"
      ],
      "metadata": {
        "colab": {
          "base_uri": "https://localhost:8080/"
        },
        "id": "wNm1NkrBuHgE",
        "outputId": "9e890308-18e0-45a6-ef84-bb0054adb7d0"
      },
      "execution_count": null,
      "outputs": [
        {
          "output_type": "stream",
          "name": "stdout",
          "text": [
            "150\n",
            "Novo salario: 1,00 Reajuste ganho: 2,00 Em percentual: 17 %\n"
          ]
        }
      ]
    },
    {
      "cell_type": "code",
      "source": [
        "#Solução um pouco mais completa, apresentando exatamente o resultado final, inclusive os centavos.\n",
        "salario = float(input())\n",
        "if (salario < 0):\n",
        "  print(\"O salario deve ser a partir de zero\")\n",
        "else:\n",
        "  if (salario >= 0 and salario <=600.00):\n",
        "    pr = 17\n",
        "    novoSalario = salario * 1.17\n",
        "    reajuste = novoSalario - salario\n",
        "  elif (salario >=600.01 and salario <=900.00):\n",
        "    pr = 13\n",
        "    novoSalario = salario * 1.13\n",
        "    reajuste = novoSalario - salario\n",
        "  elif (salario >=900.01 and salario <=1500.00):\n",
        "    pr = 12\n",
        "    novoSalario = salario * 1.12\n",
        "    reajuste = novoSalario - salario\n",
        "  elif (salario >=1500.01 and salario <=2000.00):\n",
        "    pr = 10\n",
        "    novoSalario = salario * 1.10\n",
        "    reajuste = novoSalario - salario\n",
        "  elif (salario > 2000.00):\n",
        "    pr = 5\n",
        "    novoSalario = salario * 1.05\n",
        "    reajuste = novoSalario - salario\n",
        "\n",
        "  tratamento1Ns = str(novoSalario).split(\".\")\n",
        "  tratamento1Re = str(reajuste).split(\".\")\n",
        "\n",
        "  if len(tratamento1Ns[1]) == 1:\n",
        "    tratamento1Ns[1] = tratamento1Ns[1]+\"0\"\n",
        "\n",
        "  if len(tratamento1Re[1]) == 1:\n",
        "    tratamento1Re[1] = tratamento1Re[1]+\"0\"\n",
        "\n",
        "  finalNs = tratamento1Ns[0] + \",\" + tratamento1Ns[1]\n",
        "  finalRe= tratamento1Re[0] + \",\" + tratamento1Re[1]\n",
        "\n",
        "  print(f\"Novo salario: {finalNs} Reajuste ganho: {finalRe} Em percentual: {pr} %\")\n"
      ],
      "metadata": {
        "colab": {
          "base_uri": "https://localhost:8080/"
        },
        "id": "BW1aHdkuVfd9",
        "outputId": "0b8540aa-ed5c-473f-a4c9-6ef4aff9b13f"
      },
      "execution_count": null,
      "outputs": [
        {
          "output_type": "stream",
          "name": "stdout",
          "text": [
            "150\n",
            "Novo salario: 175,50 Reajuste ganho: 25,50 Em percentual: 17 %\n"
          ]
        }
      ]
    }
  ]
}