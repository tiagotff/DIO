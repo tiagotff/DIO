{
  "nbformat": 4,
  "nbformat_minor": 0,
  "metadata": {
    "colab": {
      "provenance": [],
      "collapsed_sections": [
        "PNId0SwIp8SU",
        "7XDaw4GpAuTj",
        "uE5jm0UfBAmA",
        "0sMVRNHWBR0a",
        "7_m1AlFSBgRQ",
        "jlffRcQHDgu5",
        "X1NkrW4mDoJX"
      ]
    },
    "kernelspec": {
      "name": "python3",
      "display_name": "Python 3"
    },
    "language_info": {
      "name": "python"
    }
  },
  "cells": [
    {
      "cell_type": "markdown",
      "source": [
        "# **Desafios Intermediário Py - Unimed-BH**"
      ],
      "metadata": {
        "id": "mXqgCV9d-awe"
      }
    },
    {
      "cell_type": "markdown",
      "source": [
        "## **1/3 - Alfabeto**\n",
        "\n",
        "> Dada a letra N do alfabeto, nos diga qual a sua posição.\n",
        "\n",
        ">\n",
        "\n",
        "## **Entrada**\n",
        "\n",
        "> Um único caracter N, uma letra maiúscula ('A'-'Z') do alfabeto (que contém 26 letras).\n",
        "\n",
        ">\n",
        "\n",
        "## **Saída**\n",
        "> Um único inteiro, que representa a posição da letra no alfabeto.\n",
        "\n",
        "> \n",
        "\n",
        "####  **Exemplo de Entrada\t |   Exemplo de Saída**\n",
        "\n",
        ">\n",
        "\n",
        "            C              |          3\n",
        "            J              |         10\n",
        "            Z              |         26                         \n",
        "            A              |          1              \n"
      ],
      "metadata": {
        "id": "PNId0SwIp8SU"
      }
    },
    {
      "cell_type": "markdown",
      "source": [
        "### **Resolução entregue no desafio**"
      ],
      "metadata": {
        "id": "7XDaw4GpAuTj"
      }
    },
    {
      "cell_type": "code",
      "source": [
        "#Imprime somente caracter em maiúsculo de 'A' a 'Z', com valores de 1 a 26.\n",
        "letra = input()\n",
        "if letra == letra.upper() and letra != int or letra != float:\n",
        "  for i in range(65,91):\n",
        "    if i == ord(letra):\n",
        "      print(ord(letra)-64)\n",
        "      break"
      ],
      "metadata": {
        "id": "3mVzPIIWi30h",
        "colab": {
          "base_uri": "https://localhost:8080/"
        },
        "outputId": "28b3d813-111b-47b5-d936-e1e732ea727a"
      },
      "execution_count": null,
      "outputs": [
        {
          "output_type": "stream",
          "name": "stdout",
          "text": [
            "A\n",
            "1\n",
            "J\n",
            "74\n",
            "0 - Insira uma única letra do alfabeto de 'A' a 'Z', em letra maiúscula: a\n",
            "1 - Insira uma única letra do alfabeto de 'A' a 'Z', em letra maiúscula: s\n",
            "1 - Insira uma única letra do alfabeto de 'A' a 'Z', em letra maiúscula: 1\n",
            "1 - Insira uma única letra do alfabeto de 'A' a 'Z', em letra maiúscula: ;\n",
            "1 - Insira uma única letra do alfabeto de 'A' a 'Z', em letra maiúscula: H\n",
            "8\n"
          ]
        }
      ]
    },
    {
      "cell_type": "markdown",
      "source": [
        "### **Alternativas propostas**\n",
        "\n",
        "Com alguns pequenos ajustes, apresento a seguir algumas alternativas."
      ],
      "metadata": {
        "id": "uE5jm0UfBAmA"
      }
    },
    {
      "cell_type": "markdown",
      "source": [
        "#### **1 - Imprime exatamente o valor ASCII de cada letra ou símbolo do teclado**"
      ],
      "metadata": {
        "id": "0sMVRNHWBR0a"
      }
    },
    {
      "cell_type": "code",
      "source": [
        "letra = input()\n",
        "print(ord(letra))"
      ],
      "metadata": {
        "id": "INNGpEShBPSo"
      },
      "execution_count": null,
      "outputs": []
    },
    {
      "cell_type": "markdown",
      "source": [
        "#### **2 - Aplica alguns tratamentos, contendo inclusive tratamento de erro, aceitando apenas como entrada aquela que atenda somente ao critério estabelecido.**"
      ],
      "metadata": {
        "id": "7_m1AlFSBgRQ"
      }
    },
    {
      "cell_type": "code",
      "source": [
        "letra = input(\"0 - Insira uma única letra do alfabeto de 'A' a 'Z', em letra maiúscula: \")\n",
        "try:\n",
        "  while letra == letra.lower():\n",
        "    letra = input(\"1 - Insira uma única letra do alfabeto de 'A' a 'Z', em letra maiúscula: \")\n",
        "  else:\n",
        "    print(ord(letra)- 64)\n",
        "except:\n",
        "  print(\"Você deveria digitar apenas uma letra do alfabeto de 'A' a 'Z', no formato\",\"maiúsculo\",\"\\n\",\"mas inseriu uma string. Por favor, procure o Suporte.\")\n"
      ],
      "metadata": {
        "id": "XG7A8VBrBx8J"
      },
      "execution_count": null,
      "outputs": []
    }
  ]
}