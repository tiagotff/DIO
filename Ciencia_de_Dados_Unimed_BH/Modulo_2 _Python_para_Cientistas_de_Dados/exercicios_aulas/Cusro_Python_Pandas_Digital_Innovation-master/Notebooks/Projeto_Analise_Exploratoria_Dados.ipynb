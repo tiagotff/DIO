{
 "cells": [
  {
   "cell_type": "markdown",
   "metadata": {},
   "source": [
    "# Projeto - Análise Exploratória de Dados"
   ]
  },
  {
   "cell_type": "markdown",
   "metadata": {},
   "source": [
    "## Bibliotecas"
   ]
  },
  {
   "cell_type": "code",
   "execution_count": 1,
   "metadata": {},
   "outputs": [],
   "source": [
    "#Importando as bibliotecas\n",
    "import pandas as pd\n",
    "import matplotlib.pyplot as plt\n",
    "plt.style.use(\"seaborn\")\n",
    "# from google.colab import files   #Caso for utilizar o Colab. Utilizei o VS Code."
   ]
  },
  {
   "cell_type": "markdown",
   "metadata": {},
   "source": [
    "## Leitura"
   ]
  },
  {
   "cell_type": "code",
   "execution_count": 2,
   "metadata": {},
   "outputs": [
    {
     "data": {
      "text/plain": [
       "(99441, 5)"
      ]
     },
     "execution_count": 2,
     "metadata": {},
     "output_type": "execute_result"
    }
   ],
   "source": [
    "df1 = customers_dataset = pd.read_csv(\"C:/Users/Tiago/Desktop/DIO/Ciencia_de_Dados_Unimed_BH/Modulo_2 _Python_para_Cientistas_de_Dados/desafios/projeto/olist_customers_dataset.csv\", sep=\",\") #Caso esteja utilizando uma IDE local\n",
    "#df1.head(2)\n",
    "#df1.info()\n",
    "df1.shape"
   ]
  },
  {
   "cell_type": "code",
   "execution_count": 3,
   "metadata": {},
   "outputs": [
    {
     "data": {
      "text/plain": [
       "(1000163, 5)"
      ]
     },
     "execution_count": 3,
     "metadata": {},
     "output_type": "execute_result"
    }
   ],
   "source": [
    "df2 = geolocation_dataset = pd.read_csv(\"C:/Users/Tiago/Desktop/DIO/Ciencia_de_Dados_Unimed_BH/Modulo_2 _Python_para_Cientistas_de_Dados/desafios/projeto/olist_geolocation_dataset.csv\", sep=\",\") #Caso esteja utilizando uma IDE local\n",
    "#df2.head()\n",
    "#df2.info(2)\n",
    "df2.shape"
   ]
  },
  {
   "cell_type": "code",
   "execution_count": 4,
   "metadata": {},
   "outputs": [
    {
     "data": {
      "text/plain": [
       "(112650, 7)"
      ]
     },
     "execution_count": 4,
     "metadata": {},
     "output_type": "execute_result"
    }
   ],
   "source": [
    "df3 = olist_order_items_dataset = pd.read_csv(\"C:/Users/Tiago/Desktop/DIO/Ciencia_de_Dados_Unimed_BH/Modulo_2 _Python_para_Cientistas_de_Dados/desafios/projeto/olist_order_items_dataset.csv\", sep=\",\") #Caso esteja utilizando uma IDE local\n",
    "#df3.head(2)\n",
    "#df3.info()\n",
    "df3.shape"
   ]
  },
  {
   "cell_type": "code",
   "execution_count": 5,
   "metadata": {},
   "outputs": [
    {
     "data": {
      "text/plain": [
       "(103886, 5)"
      ]
     },
     "execution_count": 5,
     "metadata": {},
     "output_type": "execute_result"
    }
   ],
   "source": [
    "df4 = olist_order_payments_dataset = pd.read_csv(\"C:/Users/Tiago/Desktop/DIO/Ciencia_de_Dados_Unimed_BH/Modulo_2 _Python_para_Cientistas_de_Dados/desafios/projeto/olist_order_payments_dataset.csv\", sep=\",\") #Caso esteja utilizando uma IDE local\n",
    "#df4.head(2)\n",
    "#df4.info()\n",
    "df4.shape\n"
   ]
  },
  {
   "cell_type": "code",
   "execution_count": 6,
   "metadata": {},
   "outputs": [
    {
     "data": {
      "text/plain": [
       "(99224, 7)"
      ]
     },
     "execution_count": 6,
     "metadata": {},
     "output_type": "execute_result"
    }
   ],
   "source": [
    "df5 = olist_order_reviews_dataset = pd.read_csv(\"C:/Users/Tiago/Desktop/DIO/Ciencia_de_Dados_Unimed_BH/Modulo_2 _Python_para_Cientistas_de_Dados/desafios/projeto/olist_order_reviews_dataset.csv\", sep=\",\") #Caso esteja utilizando uma IDE local\n",
    "#df5.head(2)\n",
    "#df5.info()\n",
    "df5.shape"
   ]
  },
  {
   "cell_type": "code",
   "execution_count": 7,
   "metadata": {},
   "outputs": [
    {
     "data": {
      "text/plain": [
       "(99441, 8)"
      ]
     },
     "execution_count": 7,
     "metadata": {},
     "output_type": "execute_result"
    }
   ],
   "source": [
    "df6 = olist_orders_dataset = pd.read_csv(\"C:/Users/Tiago/Desktop/DIO/Ciencia_de_Dados_Unimed_BH/Modulo_2 _Python_para_Cientistas_de_Dados/desafios/projeto/olist_orders_dataset.csv\", sep=\",\") #Caso esteja utilizando uma IDE local\n",
    "#df6.head(2)\n",
    "#df6.info()\n",
    "df6.shape\n"
   ]
  },
  {
   "cell_type": "code",
   "execution_count": 8,
   "metadata": {},
   "outputs": [
    {
     "data": {
      "text/plain": [
       "(32951, 9)"
      ]
     },
     "execution_count": 8,
     "metadata": {},
     "output_type": "execute_result"
    }
   ],
   "source": [
    "df7 = olist_products_dataset = pd.read_csv(\"C:/Users/Tiago/Desktop/DIO/Ciencia_de_Dados_Unimed_BH/Modulo_2 _Python_para_Cientistas_de_Dados/desafios/projeto/olist_products_dataset.csv\", sep=\",\") #Caso esteja utilizando uma IDE local\n",
    "#df7.head(2)\n",
    "#df7.info()\n",
    "df7.shape\n"
   ]
  },
  {
   "cell_type": "code",
   "execution_count": 9,
   "metadata": {},
   "outputs": [
    {
     "data": {
      "text/plain": [
       "(3095, 4)"
      ]
     },
     "execution_count": 9,
     "metadata": {},
     "output_type": "execute_result"
    }
   ],
   "source": [
    "df8 = olist_sellers_dataset = pd.read_csv(\"C:/Users/Tiago/Desktop/DIO/Ciencia_de_Dados_Unimed_BH/Modulo_2 _Python_para_Cientistas_de_Dados/desafios/projeto/olist_sellers_dataset.csv\", sep=\",\") #Caso esteja utilizando uma IDE local\n",
    "#df8.head(2)\n",
    "#df8.info()\n",
    "df8.shape"
   ]
  },
  {
   "cell_type": "code",
   "execution_count": 10,
   "metadata": {},
   "outputs": [
    {
     "data": {
      "text/plain": [
       "(71, 2)"
      ]
     },
     "execution_count": 10,
     "metadata": {},
     "output_type": "execute_result"
    }
   ],
   "source": [
    "df9 = product_category_name_translation = pd.read_csv(\"C:/Users/Tiago/Desktop/DIO/Ciencia_de_Dados_Unimed_BH/Modulo_2 _Python_para_Cientistas_de_Dados/desafios/projeto/product_category_name_translation.csv\", sep=\",\") #Caso esteja utilizando uma IDE local\n",
    "#df9.head()\n",
    "#df9.info()\n",
    "df9.shape"
   ]
  },
  {
   "cell_type": "markdown",
   "metadata": {},
   "source": [
    "## Unificação dos datasets"
   ]
  },
  {
   "cell_type": "code",
   "execution_count": 11,
   "metadata": {},
   "outputs": [
    {
     "data": {
      "text/plain": [
       "(118434, 11)"
      ]
     },
     "execution_count": 11,
     "metadata": {},
     "output_type": "execute_result"
    }
   ],
   "source": [
    "df_3_4 = df3.merge(df4, how='outer')\n",
    "df_3_4.head()\n",
    "df_3_4.shape"
   ]
  },
  {
   "cell_type": "code",
   "execution_count": 12,
   "metadata": {},
   "outputs": [
    {
     "data": {
      "text/plain": [
       "(119143, 17)"
      ]
     },
     "execution_count": 12,
     "metadata": {},
     "output_type": "execute_result"
    }
   ],
   "source": [
    "df_3_4_5 = df_3_4.merge(df5, how='outer')\n",
    "df_3_4_5.head()\n",
    "df_3_4_5.shape"
   ]
  },
  {
   "cell_type": "code",
   "execution_count": 13,
   "metadata": {},
   "outputs": [
    {
     "data": {
      "text/plain": [
       "(119143, 24)"
      ]
     },
     "execution_count": 13,
     "metadata": {},
     "output_type": "execute_result"
    }
   ],
   "source": [
    "df_3_4_5_6 = df_3_4_5.merge(df6, how='outer')\n",
    "df_3_4_5_6.head()\n",
    "df_3_4_5_6.shape"
   ]
  },
  {
   "cell_type": "code",
   "execution_count": 14,
   "metadata": {},
   "outputs": [
    {
     "data": {
      "text/plain": [
       "(119143, 28)"
      ]
     },
     "execution_count": 14,
     "metadata": {},
     "output_type": "execute_result"
    }
   ],
   "source": [
    "df_3_4_5_6_1 = df_3_4_5_6.merge(df1, how='outer')\n",
    "df_3_4_5_6_1.head()\n",
    "df_3_4_5_6_1.shape"
   ]
  },
  {
   "cell_type": "code",
   "execution_count": 15,
   "metadata": {},
   "outputs": [
    {
     "data": {
      "text/plain": [
       "(119143, 36)"
      ]
     },
     "execution_count": 15,
     "metadata": {},
     "output_type": "execute_result"
    }
   ],
   "source": [
    "df_3_4_5_6_1_7 = df_3_4_5_6_1.merge(df7, how='outer')\n",
    "df_3_4_5_6_1_7.head()\n",
    "df_3_4_5_6_1_7.shape"
   ]
  },
  {
   "cell_type": "code",
   "execution_count": 16,
   "metadata": {},
   "outputs": [
    {
     "data": {
      "text/plain": [
       "(119143, 39)"
      ]
     },
     "execution_count": 16,
     "metadata": {},
     "output_type": "execute_result"
    }
   ],
   "source": [
    "df_3_4_5_6_1_7_8 = df_3_4_5_6_1_7.merge(df8, how='outer')\n",
    "df_3_4_5_6_1_7_8.head()\n",
    "df_3_4_5_6_1_7_8.shape"
   ]
  },
  {
   "cell_type": "code",
   "execution_count": 17,
   "metadata": {},
   "outputs": [
    {
     "name": "stdout",
     "output_type": "stream",
     "text": [
      "<class 'pandas.core.frame.DataFrame'>\n",
      "Int64Index: 119143 entries, 0 to 119142\n",
      "Data columns (total 40 columns):\n",
      " #   Column                         Non-Null Count   Dtype  \n",
      "---  ------                         --------------   -----  \n",
      " 0   order_id                       119143 non-null  object \n",
      " 1   order_item_id                  118310 non-null  float64\n",
      " 2   product_id                     118310 non-null  object \n",
      " 3   seller_id                      118310 non-null  object \n",
      " 4   shipping_limit_date            118310 non-null  object \n",
      " 5   price                          118310 non-null  float64\n",
      " 6   freight_value                  118310 non-null  float64\n",
      " 7   payment_sequential             119140 non-null  float64\n",
      " 8   payment_type                   119140 non-null  object \n",
      " 9   payment_installments           119140 non-null  float64\n",
      " 10  payment_value                  119140 non-null  float64\n",
      " 11  review_id                      118146 non-null  object \n",
      " 12  review_score                   118146 non-null  float64\n",
      " 13  review_comment_title           13989 non-null   object \n",
      " 14  review_comment_message         50245 non-null   object \n",
      " 15  review_creation_date           118146 non-null  object \n",
      " 16  review_answer_timestamp        118146 non-null  object \n",
      " 17  customer_id                    119143 non-null  object \n",
      " 18  order_status                   119143 non-null  object \n",
      " 19  order_purchase_timestamp       119143 non-null  object \n",
      " 20  order_approved_at              118966 non-null  object \n",
      " 21  order_delivered_carrier_date   117057 non-null  object \n",
      " 22  order_delivered_customer_date  115722 non-null  object \n",
      " 23  order_estimated_delivery_date  119143 non-null  object \n",
      " 24  customer_unique_id             119143 non-null  object \n",
      " 25  customer_zip_code_prefix       119143 non-null  int64  \n",
      " 26  customer_city                  119143 non-null  object \n",
      " 27  customer_state                 119143 non-null  object \n",
      " 28  product_category_name          116601 non-null  object \n",
      " 29  product_name_lenght            116601 non-null  float64\n",
      " 30  product_description_lenght     116601 non-null  float64\n",
      " 31  product_photos_qty             116601 non-null  float64\n",
      " 32  product_weight_g               118290 non-null  float64\n",
      " 33  product_length_cm              118290 non-null  float64\n",
      " 34  product_height_cm              118290 non-null  float64\n",
      " 35  product_width_cm               118290 non-null  float64\n",
      " 36  seller_zip_code_prefix         118310 non-null  float64\n",
      " 37  seller_city                    118310 non-null  object \n",
      " 38  seller_state                   118310 non-null  object \n",
      " 39  product_category_name_english  116576 non-null  object \n",
      "dtypes: float64(15), int64(1), object(24)\n",
      "memory usage: 37.3+ MB\n"
     ]
    },
    {
     "data": {
      "text/plain": [
       "(119143, 40)"
      ]
     },
     "execution_count": 17,
     "metadata": {},
     "output_type": "execute_result"
    }
   ],
   "source": [
    "df_3_4_5_6_1_7_8_9 = df_3_4_5_6_1_7_8.merge(df9, how='outer')\n",
    "df_3_4_5_6_1_7_8_9.head(2)\n",
    "df_3_4_5_6_1_7_8_9.info()\n",
    "df_3_4_5_6_1_7_8_9.shape"
   ]
  },
  {
   "cell_type": "code",
   "execution_count": 20,
   "metadata": {},
   "outputs": [
    {
     "name": "stdout",
     "output_type": "stream",
     "text": [
      "<class 'pandas.core.frame.DataFrame'>\n",
      "Int64Index: 18220822 entries, 0 to 18220821\n",
      "Data columns (total 45 columns):\n",
      " #   Column                         Non-Null Count     Dtype  \n",
      "---  ------                         --------------     -----  \n",
      " 0   order_id                       18188958 non-null  object \n",
      " 1   order_item_id                  18064261 non-null  float64\n",
      " 2   product_id                     18064261 non-null  object \n",
      " 3   seller_id                      18064261 non-null  object \n",
      " 4   shipping_limit_date            18064261 non-null  object \n",
      " 5   price                          18064261 non-null  float64\n",
      " 6   freight_value                  18064261 non-null  float64\n",
      " 7   payment_sequential             18187923 non-null  float64\n",
      " 8   payment_type                   18187923 non-null  object \n",
      " 9   payment_installments           18187923 non-null  float64\n",
      " 10  payment_value                  18187923 non-null  float64\n",
      " 11  review_id                      18045019 non-null  object \n",
      " 12  review_score                   18045019 non-null  float64\n",
      " 13  review_comment_title           2034148 non-null   object \n",
      " 14  review_comment_message         7485266 non-null   object \n",
      " 15  review_creation_date           18045019 non-null  object \n",
      " 16  review_answer_timestamp        18045019 non-null  object \n",
      " 17  customer_id                    18188958 non-null  object \n",
      " 18  order_status                   18188958 non-null  object \n",
      " 19  order_purchase_timestamp       18188958 non-null  object \n",
      " 20  order_approved_at              18161668 non-null  object \n",
      " 21  order_delivered_carrier_date   17870712 non-null  object \n",
      " 22  order_delivered_customer_date  17692015 non-null  object \n",
      " 23  order_estimated_delivery_date  18188958 non-null  object \n",
      " 24  customer_unique_id             18188958 non-null  object \n",
      " 25  customer_zip_code_prefix       18188958 non-null  float64\n",
      " 26  customer_city                  18188958 non-null  object \n",
      " 27  customer_state                 18188958 non-null  object \n",
      " 28  product_category_name          17803116 non-null  object \n",
      " 29  product_name_lenght            17803116 non-null  float64\n",
      " 30  product_description_lenght     17803116 non-null  float64\n",
      " 31  product_photos_qty             17803116 non-null  float64\n",
      " 32  product_weight_g               18060583 non-null  float64\n",
      " 33  product_length_cm              18060583 non-null  float64\n",
      " 34  product_height_cm              18060583 non-null  float64\n",
      " 35  product_width_cm               18060583 non-null  float64\n",
      " 36  seller_zip_code_prefix         18064261 non-null  float64\n",
      " 37  seller_city                    18064261 non-null  object \n",
      " 38  seller_state                   18064261 non-null  object \n",
      " 39  product_category_name_english  17799393 non-null  object \n",
      " 40  geolocation_zip_code_prefix    18220500 non-null  float64\n",
      " 41  geolocation_lat                18220500 non-null  float64\n",
      " 42  geolocation_lng                18220500 non-null  float64\n",
      " 43  geolocation_city               18220500 non-null  object \n",
      " 44  geolocation_state              18220500 non-null  object \n",
      "dtypes: float64(19), object(26)\n",
      "memory usage: 6.2+ GB\n"
     ]
    }
   ],
   "source": [
    "df_3_4_5_6_1_7_8_9_2 = df_3_4_5_6_1_7_8_9.merge(df2, left_on='customer_zip_code_prefix', right_on='geolocation_zip_code_prefix', how='outer')\n",
    "#df_3_4_5_6_1_7_8_9_2.head()\n",
    "df_3_4_5_6_1_7_8_9_2.info(verbose=True)\n",
    "#df_3_4_5_6_1_7_8_9_2.shape"
   ]
  }
 ],
 "metadata": {
  "kernelspec": {
   "display_name": "Python 3.10.6 64-bit",
   "language": "python",
   "name": "python3"
  },
  "language_info": {
   "codemirror_mode": {
    "name": "ipython",
    "version": 3
   },
   "file_extension": ".py",
   "mimetype": "text/x-python",
   "name": "python",
   "nbconvert_exporter": "python",
   "pygments_lexer": "ipython3",
   "version": "3.10.6"
  },
  "orig_nbformat": 4,
  "vscode": {
   "interpreter": {
    "hash": "c833dfc047c4516882787f5aa527e056a926718dafde6b3a550de5aeaac3c19a"
   }
  }
 },
 "nbformat": 4,
 "nbformat_minor": 2
}
