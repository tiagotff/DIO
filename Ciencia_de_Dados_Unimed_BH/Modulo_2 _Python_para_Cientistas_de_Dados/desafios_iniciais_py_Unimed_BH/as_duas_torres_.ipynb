{
 "cells": [
  {
   "cell_type": "markdown",
   "metadata": {},
   "source": [
    "# Desafio 1-3 : As duas torres"
   ]
  },
  {
   "cell_type": "markdown",
   "metadata": {},
   "source": [
    "Saruman, o Branco, um grande mago da Terra-média, traiu os bons costumes e se filiou ao lorde do mal, Sauron. Sauron comanda a torre de Minas Morgul, que abriga um dos seus mais temidos servos, o Rei Bruxo de Angmar, um dos Nazgûl (antigos reis humanos que foram corrompidos pelos poderes dos anéis de Sauron). Saruman comanda a torre de Orthanc, onde cria seus servos Uruk-hai, orcs mais terríveis que os convencionais. Para comunicação, eles utilizam as relíquias esféricas chamadas Palantír, que ficam no topo de suas torres.\n",
    "\n",
    "A Terra-média avança cada vez mais em tecnologia, muito impulsionada pelas guerras que a acometem diariamente. Um dos problemas que tem atrapalhado sua população é a Interferência de Comunicação Mágica (ICM). Os estudiosos de Minas Tirith, grande cidadela de Gondor, concluíram que para calcular o ICM para Palantír’s, basta dividir a distância entre os dois Palantír’s, pela soma do diâmetro dos mesmos. Gandalf, o Cinza, chegou a questionar essa conclusão, alegando que ela não fazia muito sentido, mas ele mesmo concluiu que dar sentido às coisas não faz sentido.\n",
    "Saruman e Sauron precisam de uma comunicação estável, pois têm medo que Frodo e seus amigos consigam atrapalhar seus planos, portanto, querem saber quanto de ICM há na comunicação de seus Palantír’s, para que saibam quanto de magia devem empregar na comunicação."
   ]
  },
  {
   "cell_type": "markdown",
   "metadata": {},
   "source": [
    "### Entrada"
   ]
  },
  {
   "cell_type": "markdown",
   "metadata": {},
   "source": [
    "A entrada é composta por 3 inteiros, N(0 < N < 10000), X e Y(0 < X, Y < 100), que indicam, respectivamente, a distância entre os Palantír, o diâmetro do Palantír de Sauron e o diâmetro do Palantír de Saruman."
   ]
  },
  {
   "cell_type": "markdown",
   "metadata": {},
   "source": [
    "### Saída"
   ]
  },
  {
   "cell_type": "markdown",
   "metadata": {},
   "source": [
    "Um valor real indicando o ICM da comunicação dos Palatír de Sauron e Saruman, com 2 casas decimais."
   ]
  },
  {
   "cell_type": "markdown",
   "metadata": {},
   "source": [
    "- Exemplo de Entrada:  100 2 2    |   Exemplo de Saída:    25.00\n",
    "\n",
    "- Exemplo de Entrada:  200 3 8    |   Exemplo de Saída:    18.18"
   ]
  },
  {
   "cell_type": "markdown",
   "metadata": {},
   "source": [
    "IX Olimpíada Interna de Programação do IFSULDEMINAS - OLIP 201"
   ]
  },
  {
   "cell_type": "markdown",
   "metadata": {},
   "source": [
    "# Resolução entregue no desafio"
   ]
  },
  {
   "cell_type": "markdown",
   "metadata": {},
   "source": [
    "## Raciocínio aplicado"
   ]
  },
  {
   "cell_type": "markdown",
   "metadata": {},
   "source": [
    "### 1. Evidenciando o trecho mais importante do desafio:\n",
    "\n",
    "Os estudiosos de Minas Tirith, grande cidadela de Gondor, concluíram que para calcular o ICM para Palantír’s, basta dividir a distância entre os dois Palantír’s, pela soma do diâmetro dos mesmos. Gandalf, o Cinza, chegou a questionar essa conclusão, alegando que ela não fazia muito sentido, mas ele mesmo concluiu que dar sentido às coisas não faz sentido.\n",
    "Saruman e Sauron precisam de uma comunicação estável, pois têm medo que Frodo e seus amigos consigam atrapalhar seus planos, portanto, querem saber quanto de ICM há na comunicação de seus Palantír’s, para que saibam quanto de magia devem empregar na comunicação."
   ]
  },
  {
   "cell_type": "markdown",
   "metadata": {},
   "source": [
    "### 2. Anotações mais importantes\n",
    "- Dividir a distância entre os dois Palantír’s*, pela soma do diâmetro dos mesmos\n",
    "- Querem saber quanto de ICM** há na comunicação de seus Palantír’s, para que saibam quanto de magia devem empregar na comunicação\n",
    "\n",
    "\n",
    "*Palantír: Relíquias esféricas, que ficam no topo de suas torres, utilizadas para comunicação.\n",
    "\n",
    "**ICM: Interferência de Comunicação Mágica"
   ]
  },
  {
   "cell_type": "code",
   "execution_count": 14,
   "metadata": {},
   "outputs": [
    {
     "name": "stdout",
     "output_type": "stream",
     "text": [
      "25.00\n"
     ]
    }
   ],
   "source": [
    "entrada = input().split()\n",
    "distancia = int(entrada[0])\n",
    "diametro1 = int(entrada[1])\n",
    "diametro2 = int(entrada[2])\n",
    "\n",
    "soma = (diametro1 + diametro2)\n",
    "icm = distancia / soma\n",
    "\n",
    "print(f\"{icm:.2f}\")"
   ]
  },
  {
   "cell_type": "markdown",
   "metadata": {},
   "source": [
    "# Alternativa proposta"
   ]
  },
  {
   "cell_type": "markdown",
   "metadata": {},
   "source": [
    "Com alguns pequenos ajustes na entrada, proponho como alternativa a resolução apresentada a seguir, com o objetivo de ficar mais compreensível e amigável ao usuário.\n",
    "\n",
    "Neste caso, não é mais necessária a utilização dp método split()"
   ]
  },
  {
   "cell_type": "code",
   "execution_count": 13,
   "metadata": {},
   "outputs": [
    {
     "name": "stdout",
     "output_type": "stream",
     "text": [
      "Há uma ICM (Interferência de Comunicação Mágica) de 2.89 na comunicação de seus Palantírs\n"
     ]
    }
   ],
   "source": [
    "distancia = int(input(\"Por favor, informe a distancia entre os Palantir: \"))\n",
    "diametro_palatir_sauron = int(input(\"Por favor, informe o diâmetro do Palatir de Sauron: \"))\n",
    "diametro_palatir_saruman = int(input(\"Por favor, informe o diâmetro do Palatir de Saruman: \"))\n",
    "\n",
    "def calculoICM():\n",
    "    soma_diametro_palatirs = diametro_palatir_sauron + diametro_palatir_saruman\n",
    "    icm = distancia / soma_diametro_palatirs\n",
    "    return icm\n",
    "\n",
    "print(f\"Há uma ICM (Interferência de Comunicação Mágica) de {calculoICM():.2f} na comunicação de seus Palantírs\")\n"
   ]
  }
 ],
 "metadata": {
  "kernelspec": {
   "display_name": "Python 3.10.6 64-bit",
   "language": "python",
   "name": "python3"
  },
  "language_info": {
   "codemirror_mode": {
    "name": "ipython",
    "version": 3
   },
   "file_extension": ".py",
   "mimetype": "text/x-python",
   "name": "python",
   "nbconvert_exporter": "python",
   "pygments_lexer": "ipython3",
   "version": "3.10.6"
  },
  "orig_nbformat": 4,
  "vscode": {
   "interpreter": {
    "hash": "c833dfc047c4516882787f5aa527e056a926718dafde6b3a550de5aeaac3c19a"
   }
  }
 },
 "nbformat": 4,
 "nbformat_minor": 2
}
