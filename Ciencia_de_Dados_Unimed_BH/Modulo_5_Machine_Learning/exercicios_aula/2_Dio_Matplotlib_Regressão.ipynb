{
  "nbformat": 4,
  "nbformat_minor": 0,
  "metadata": {
    "colab": {
      "provenance": []
    },
    "kernelspec": {
      "name": "python3",
      "display_name": "Python 3"
    },
    "language_info": {
      "name": "python"
    }
  },
  "cells": [
    {
      "cell_type": "code",
      "execution_count": 4,
      "metadata": {
        "id": "tuyg-Sj4s9YZ"
      },
      "outputs": [],
      "source": [
        "# Bibliotecas\n",
        "import matplotlib\n",
        "import matplotlib.pyplot as plt"
      ]
    },
    {
      "cell_type": "code",
      "source": [
        "# Criando a regressão\n",
        "from sklearn.datasets import make_regression"
      ],
      "metadata": {
        "id": "RUIWyqTOte3U"
      },
      "execution_count": 3,
      "outputs": []
    },
    {
      "cell_type": "code",
      "source": [
        "# Gerando valores\n",
        "x, y = make_regression(n_samples=200, n_features=1, noise=30)"
      ],
      "metadata": {
        "id": "GW1gKroTtrtu"
      },
      "execution_count": 6,
      "outputs": []
    },
    {
      "cell_type": "code",
      "source": [
        "# Gráfico\n",
        "plt.scatter(x,y)\n",
        "plt.show()"
      ],
      "metadata": {
        "colab": {
          "base_uri": "https://localhost:8080/",
          "height": 265
        },
        "id": "zn5-qPoUuEkU",
        "outputId": "8e14c2bc-7f5c-46c3-ab6e-9c2c3d26c46a"
      },
      "execution_count": 7,
      "outputs": [
        {
          "output_type": "display_data",
          "data": {
            "text/plain": [
              "<Figure size 432x288 with 1 Axes>"
            ],
            "image/png": "[encoded data removed]"
          },
          "metadata": {
            "needs_background": "light"
          }
        }
      ]
    }
  ]
}