{
  "nbformat": 4,
  "nbformat_minor": 0,
  "metadata": {
    "colab": {
      "provenance": []
    },
    "kernelspec": {
      "name": "python3",
      "display_name": "Python 3"
    },
    "language_info": {
      "name": "python"
    }
  },
  "cells": [
    {
      "cell_type": "markdown",
      "source": [
        "## **FOR**"
      ],
      "metadata": {
        "id": "gVDcS7tJrSC7"
      }
    },
    {
      "cell_type": "code",
      "execution_count": 1,
      "metadata": {
        "id": "szjITRGHq6wf"
      },
      "outputs": [],
      "source": [
        "lista = [1,2,3,4,5]"
      ]
    },
    {
      "cell_type": "code",
      "source": [
        "for item in lista:\n",
        "  print(item)"
      ],
      "metadata": {
        "colab": {
          "base_uri": "https://localhost:8080/"
        },
        "id": "oCkpKZORrDUS",
        "outputId": "1077b035-5788-41b8-e4a9-52a114ba3074"
      },
      "execution_count": 2,
      "outputs": [
        {
          "output_type": "stream",
          "name": "stdout",
          "text": [
            "1\n",
            "2\n",
            "3\n",
            "4\n",
            "5\n"
          ]
        }
      ]
    },
    {
      "cell_type": "markdown",
      "source": [
        "## **While**"
      ],
      "metadata": {
        "id": "OeHUeAYPrWuT"
      }
    },
    {
      "cell_type": "code",
      "source": [
        "contador = 0"
      ],
      "metadata": {
        "id": "7owZV6rPrZoC"
      },
      "execution_count": 3,
      "outputs": []
    },
    {
      "cell_type": "code",
      "source": [
        "while contador < 10:\n",
        "  print(f'valor do contador é {contador}')\n",
        "  contador +=1\n"
      ],
      "metadata": {
        "colab": {
          "base_uri": "https://localhost:8080/"
        },
        "id": "slk7V4Pcr5UW",
        "outputId": "ffa99357-4e30-4008-a55f-7421b3261207"
      },
      "execution_count": 4,
      "outputs": [
        {
          "output_type": "stream",
          "name": "stdout",
          "text": [
            "valor do contador é 0\n",
            "valor do contador é 1\n",
            "valor do contador é 2\n",
            "valor do contador é 3\n",
            "valor do contador é 4\n",
            "valor do contador é 5\n",
            "valor do contador é 6\n",
            "valor do contador é 7\n",
            "valor do contador é 8\n",
            "valor do contador é 9\n"
          ]
        }
      ]
    }
  ]
}