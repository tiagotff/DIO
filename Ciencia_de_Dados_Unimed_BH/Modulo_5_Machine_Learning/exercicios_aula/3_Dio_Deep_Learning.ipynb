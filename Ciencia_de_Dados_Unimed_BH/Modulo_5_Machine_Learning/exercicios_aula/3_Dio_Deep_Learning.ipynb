{
  "nbformat": 4,
  "nbformat_minor": 0,
  "metadata": {
    "colab": {
      "provenance": []
    },
    "kernelspec": {
      "name": "python3",
      "display_name": "Python 3"
    },
    "language_info": {
      "name": "python"
    }
  },
  "cells": [
    {
      "cell_type": "code",
      "execution_count": 1,
      "metadata": {
        "id": "n9ZtklSdu2Z6"
      },
      "outputs": [],
      "source": [
        "# Bibliotecas\n",
        "import numpy as np\n",
        "import torch   # Framework\n",
        "import torch.nn.functional as F\n",
        "import torchvision\n",
        "import matplotlib.pyplot as plt\n",
        "from time import time\n",
        "from torchvision import datasets, transforms\n",
        "from torch import nn, optim"
      ]
    },
    {
      "cell_type": "code",
      "source": [
        "# Problema: Mnist -> Problema numérico. Números escritos à mão.\n",
        "# Alguns exemplos possíveis: Devolução de produto(CEP),...tudo envolvendo números manuscritos.\n",
        "\n",
        "transform = transforms.ToTensor()  #Definindo a conversão de imagem para tensor\n",
        "\n",
        "trainset = datasets.MNIST('./MNIST_data/', download=True, train=True, transform=transform) #Carrega a parte do treino do dataset\n",
        "trainloader = torch.utils.data.DataLoader(trainset, batch_size = 64, shuffle = True)  #Cria um buffer para pegar os dados por partes\n",
        "\n",
        "valset = datasets.MNIST('./MNIST_data/', download=True, train=False, transform=transform)  #Carrega a parte de validação do dataset\n",
        "valloader = torch.utils.data.DataLoader(valset, batch_size = 64, shuffle = True)  #Cria um buffer para pegar os dados por partes"
      ],
      "metadata": {
        "id": "TiZVCcERu9xm"
      },
      "execution_count": 5,
      "outputs": []
    },
    {
      "cell_type": "code",
      "source": [
        "# Ver imagem extraída da base de dados\n",
        "dataiter = iter(trainloader)\n",
        "imagens, etiquetas = dataiter.next()\n",
        "plt.imshow(imagens[0].numpy().squeeze(), cmap='gray_r')\n"
      ],
      "metadata": {
        "colab": {
          "base_uri": "https://localhost:8080/",
          "height": 282
        },
        "id": "lp0m6_FTu94W",
        "outputId": "ff0ae69e-f32f-4770-91cb-9a82534bc3a8"
      },
      "execution_count": 8,
      "outputs": [
        {
          "output_type": "execute_result",
          "data": {
            "text/plain": [
              "<matplotlib.image.AxesImage at 0x7f431e97df10>"
            ]
          },
          "metadata": {},
          "execution_count": 8
        },
        {
          "output_type": "display_data",
          "data": {
            "text/plain": [
              "<Figure size 432x288 with 1 Axes>"
            ],
            "image/png": "[encoded data removed]"
          },
          "metadata": {
            "needs_background": "light"
          }
        }
      ]
    },
    {
      "cell_type": "code",
      "source": [
        "# Conferindo o tamanho da imagem, para verificar o tamanho do tensor da imagem\n",
        "print(imagens[0].shape)  #Para verificar as dimensões do tensor de cada imagem\n",
        "print(etiquetas[0].shape) #Para verificar as dimensões do tensor de cada etiqueta"
      ],
      "metadata": {
        "colab": {
          "base_uri": "https://localhost:8080/"
        },
        "id": "sDz8MIOkzEHB",
        "outputId": "2d8933df-172a-4cb1-c6a3-bf9b28d5f8c0"
      },
      "execution_count": 9,
      "outputs": [
        {
          "output_type": "stream",
          "name": "stdout",
          "text": [
            "torch.Size([1, 28, 28])\n",
            "torch.Size([])\n"
          ]
        }
      ]
    },
    {
      "cell_type": "code",
      "source": [
        "#Montando a estrutura da RNA\n",
        "class Modelo(nn.Module):\n",
        "    def __init__(self):\n",
        "        super(Modelo, self).__init__()\n",
        "        self.linear1 = nn.Linear(28*28, 128)  #Camada de entrada, 784 neurônios que se ligam a 128\n",
        "        self.linear2 = nn.Linear(128, 64)  #Camada interna 1, 128 neurônios que se ligam a 64\n",
        "        self.linear3 = nn.Linear(64, 10)  #Camada interna 2, 64 neurônios que se ligam a 10\n",
        "\n",
        "        #Para a camada de saída não é necessário definir nada, pois só precisamos pegar o output da camada interna 2\n",
        "\n",
        "    def forward(self, X):\n",
        "        X = F.relu(self.linear1(X))  #Função de ativação da camada de entrada para a camada interna 1\n",
        "        X = F.relu(self.linear2(X))  #Função de ativação da camada interna 1 para a camada interna 2\n",
        "        X = self.linear3(X)  #Função de ativação da camada interna 2 para a camada de saída, nesse caso f(x) = x\n",
        "        return F.log_softmax(X, dim=1)  #dados utilizados para calcular a perda"
      ],
      "metadata": {
        "id": "lXEpXqKkzifK"
      },
      "execution_count": 23,
      "outputs": []
    },
    {
      "cell_type": "code",
      "source": [
        "# Otimizador do RNA\n",
        "# Estrutura de treinamento da RNA\n",
        "\n",
        "def treino(modelo, trainloader, device):\n",
        "  otimizador = optim.SGD(modelo.parameters(), lr = 0.01, momentum=0.5) # Define a política de atualizadação dos pesos e da bias\n",
        "  inicio = time()  #timer para sabermos quanto tempo levou o treino\n",
        "\n",
        "  criterio = nn.NLLLoss() #Definindo o critério para calcular a perda\n",
        "  EPOCHS = 10 #Número de Epochs que o algoritmo rodará\n",
        "  modelo.train()  #Ativando o modo de treinamento do modelo\n",
        "\n",
        "  for epoch in range(EPOCHS):\n",
        "    perda_acumulada = 0  #Inicialização da perda acumulada da eopoch em questão\n",
        "\n",
        "    for imagens, etiquetas in trainloader:\n",
        "\n",
        "      imagens = imagens.view(imagens.shape[0], -1)  #Convertendo as imagens para \"vetores\" de 28*28 casas para ficarem compatíveis com a ...\n",
        "      otimizador.zero_grad()   #Zerando os gradientes por conta do ciclo anterior\n",
        "\n",
        "      output = modelo(imagens.to(device))  #Colocando os dados no modelo\n",
        "      perda_instantanea = criterio(output, etiquetas.to(device))  #Calculando a perda da epoch em questão\n",
        "\n",
        "      perda_instantanea.backward()  #back propagation a partir da perda\n",
        "\n",
        "      otimizador.step()  #Atualizando os pesos e a bias\n",
        "\n",
        "      perda_acumulada +=perda_instantanea.item()  #Atualização da perda acumulada\n",
        "\n",
        "\n",
        "  else:\n",
        "      print(\"Epoch {} - Perda resultante: {}\".format(epoch+1, perda_acumulada/len(trainloader)))\n",
        "  print(\"\\nTempo de treino (em minutos) =\", (time()-inicio)/60)\n"
      ],
      "metadata": {
        "id": "nkoC65Cs3f6k"
      },
      "execution_count": 24,
      "outputs": []
    },
    {
      "cell_type": "code",
      "source": [
        "#  Validação\n",
        "\n",
        "def validacao (modelo, valloader, device):\n",
        "    conta_corretas, conta_todas = 0, 0\n",
        "    for imagens, etiquetas in valloader:\n",
        "      for i in range(len(etiquetas)):\n",
        "        img = imagens [i].view(1, 784)\n",
        "        #desativar o autograd para acelerar a validação. Grafos computacionais dinêmicos tem um custo alto de processamento\n",
        "        with torch.no_grad():\n",
        "          logps = modelo(img.to(device))  #output do modelo em escala logaritmica\n",
        "\n",
        "\n",
        "        ps = torch.exp(logps)   #converte output para escala normal (lembrando que é um tensor)\n",
        "\n",
        "      probab = list(ps.cpu().numpy()[0])\n",
        "      etiqueta_pred = probab.index(max(probab))   #converte o tensor em um número, no caso, o número que o modelo previu como correto\n",
        "      etiqueta_certa = etiquetas.numpy()[i]\n",
        "      if(etiqueta_certa == etiqueta_pred):   #compara a previsão com o valor correto\n",
        "        conta_corretas +=1\n",
        "      conta_todas +=1\n",
        "\n",
        "    print(\"Total de imagens testadas =\", conta_todas)\n",
        "    print(\"\\nPrecisão do modelo = {}%\".format(conta_corretas*100/conta_todas))"
      ],
      "metadata": {
        "id": "Qtl7PF1z7Es6"
      },
      "execution_count": 25,
      "outputs": []
    },
    {
      "cell_type": "code",
      "source": [
        "modelo = Modelo()\n",
        "device = torch.device(\"cuda\" if torch.cuda.is_available() else \"cpu\")\n",
        "modelo.to(device)"
      ],
      "metadata": {
        "colab": {
          "base_uri": "https://localhost:8080/"
        },
        "id": "gH2zf1lQ9ul1",
        "outputId": "678583a0-258b-418e-c56b-24ae20709704"
      },
      "execution_count": 26,
      "outputs": [
        {
          "output_type": "execute_result",
          "data": {
            "text/plain": [
              "Modelo(\n",
              "  (linear1): Linear(in_features=784, out_features=128, bias=True)\n",
              "  (linear2): Linear(in_features=128, out_features=64, bias=True)\n",
              "  (linear3): Linear(in_features=64, out_features=10, bias=True)\n",
              ")"
            ]
          },
          "metadata": {},
          "execution_count": 26
        }
      ]
    },
    {
      "cell_type": "code",
      "source": [],
      "metadata": {
        "id": "Rh4WHZdr_0uM"
      },
      "execution_count": null,
      "outputs": []
    }
  ]
}